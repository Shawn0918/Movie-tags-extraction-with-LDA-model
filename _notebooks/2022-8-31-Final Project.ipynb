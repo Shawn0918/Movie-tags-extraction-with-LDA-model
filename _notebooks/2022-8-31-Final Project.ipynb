{
 "cells": [
  {
   "cell_type": "markdown",
   "id": "c137c743",
   "metadata": {},
   "source": [
    "# 🎬 Movie Tags Extraction with LDA Model\n",
    "> This notebook performs an exploratory analysis to a Netflix movies and TV-shows dataset and applies the LDA model to extract the topic words from a given category of movie descriptions. \n",
    "\n",
    "- toc: true\n",
    "- branch: master\n",
    "- badges: true\n",
    "- comments: true\n",
    "- author: Shawn Shisen Yue\n",
    "- categories: [fastpages, jupyter]"
   ]
  },
  {
   "cell_type": "markdown",
   "id": "e9096892",
   "metadata": {},
   "source": [
    "## Introduction \n",
    "***\n",
    "As a movie fan, I’m always strict about selecting a movie for my scarce holidays. Instead of blindly choosing a blockbuster movie, I prefer to scrutinize the movie recommendation websites to choose a movie that might not be popular, but perfectly fits my desire. In the process of looking for movies, I find my focus usually falls on two sites——the tags attached to the movie and the comments from the viewers. It seems like sometimes apart from the category the movie is classified in, such as comedies, or romantic movies, the elements that appear in a movie are more helpful for my search. For instance, if the name “suspension film” appears on the recommendation page, I probably wouldn’t pay any attention to it, while if the tag “psychopathic killer” is added, I would be very likely to click in to see if that’s my target film. The accurate tags on the films can not only benefit the viewers, but they can also help improve the performance of recommendation systems and thus can indirectly boosts their profit. Considering that most movie fans are not selecting films simply based on the rough categories, or the genres, it might be more appropriate to push the films on the basis of the tags on the movies they’ve recently seen. Furthermore, such a tag-attaching system also helps those movies with less popularity but with highlighted characteristics to gain more viewers, which could facilitate the diversification of the movie industry. \n",
    "\n",
    "Movies tagging has been researched extensively with natural language processing and machine learning methods. In a study by Khan et al.[1], they trained a Convolution Neural Network based on a carefully constructed tag vocabulary to extract the keywords from the keyframes in the movie, and achieved good accuracy in their evaluation. In a study conducted by Kar et al.[2], researchers came up with a model which can extract tags on the basis of a paragraph of synopses about the movie. The researchers found an obvious superiority in the relevance and attractiveness of the model’s outcome over the keywords extracted by humans. Moreover, they put forwards a list of requirements for the synopses used for tag-extraction. The result of this study demonstrates the feasibility of generating tags with a synopsis of the movie. \n",
    "\n",
    "This notebook is a preliminary attempt to create tags for movies found on Netflix based on information in the *Netflix Movies and TV Shows* dataset. In the project, I first imported and pre-processed the data by means of changing data types and creating lists and dictionaries. Then I conducted an exploratory data analysis to seek some relevance between the columns. In this process, I found some insights about the movie industry through plotting, such as the developing trend of the duration. Finally, by observation I found the descriptions of the movies, which mostly contain one or two sentences, reveal many key words of the movie and might be suitable for tag-producing. Specifically, I established a corpus which includes all words in the descriptions of the movies of the same category and used LDA model to give some featured words for that movie category. The result of this analysis shows the possibility of utilizing a paragraph of description to extract the topic words of a given category of movies."
   ]
  },
  {
   "cell_type": "markdown",
   "id": "dce61548",
   "metadata": {},
   "source": [
    "## Methods\n",
    "***\n",
    "### Dataset Introduction\n",
    "This notebook includes a movie dataset from <https://www.kaggle.com/datasets/shivamb/netflix-shows>, which consists of listings of all the **movies** and **TV-shows** available on **Netflix**, along with details such as - cast, directors, ratings, release year, duration, etc.\n",
    "\n",
    "Specifically, here's the meaning of each column in the dataset:\n",
    "\n",
    "    show_id: Unique ID for every Movie / Tv Show \n",
    "    type: Identifier - A Movie or TV Show\n",
    "    title: Title of the Movie / Tv Show\n",
    "    director: Director of the Movie\n",
    "    cast: Actors involved in the movie / show\n",
    "    country: Country where the movie / show was produced\n",
    "    date_added: Date it was added on Netflix\n",
    "    release_year: Actual Release year of the move / show\n",
    "    rating: TV Rating of the movie / show\n",
    "    duration: Total Duration - in minutes or number of seasons\n",
    "    listed_in: Genere\n",
    "    description: The summary description\n",
    "    \n",
    "### LDA model \n",
    "Latent Dirichlet allocation (LDA) is a widey used **topic-generating** model Cao et al.[3]. The model can identify the representative topics underlying a **document collection** or a **corpus**. This model produces topics based on **bag-of-word feature**, that each document is represented as a vector, in which every word corresponds to an id and its **appearing frequency** in the document. When producing the topics, The model samples a document-specific multinomial distribution over topics from Dirichlet distribution, and samples the word in the document from the corresponding multinomial distribution. \n",
    "\n",
    "Despite the extensive use of this model, it has some drawbacks. First, though the bag-of-word feature processes the text into digital information which is easy for modeling, it ignores the order between words and thus simplifies the problem. Moreover, the number of generated topic is hard to determine, so it's necessary to apply some other methods to evaluate the accuracy. This notebook uses LDA model to generate some descriptive word under a given topic name, which is a classified genere of movie in Netflix, so there's only one topic corresponding to a collection of document. "
   ]
  },
  {
   "cell_type": "markdown",
   "id": "a097c922",
   "metadata": {},
   "source": [
    "## 📊 Exploratory Analysis & Results\n",
    "***"
   ]
  },
  {
   "cell_type": "markdown",
   "id": "3edb0323",
   "metadata": {},
   "source": [
    "### 1. 🎥 Data Preprocessing"
   ]
  },
  {
   "cell_type": "markdown",
   "id": "0265e6c5",
   "metadata": {},
   "source": [
    "* **the libraries used** "
   ]
  },
  {
   "cell_type": "code",
   "execution_count": 1,
   "id": "6cde2176",
   "metadata": {},
   "outputs": [],
   "source": [
    "import pandas as pd\n",
    "import nltk\n",
    "import matplotlib.pyplot as plt\n",
    "import ipywidgets\n",
    "import gensim\n",
    "import re\n",
    "import wordcloud\n",
    "\n",
    "from nltk.tokenize import word_tokenize, sent_tokenize\n",
    "from nltk.corpus import stopwords\n",
    "from string import punctuation\n",
    "from nltk.stem.porter import PorterStemmer\n",
    "from gensim import corpora, models"
   ]
  },
  {
   "cell_type": "markdown",
   "id": "4e113432",
   "metadata": {},
   "source": [
    "* **import the dataset and Create a dataframe for movies**"
   ]
  },
  {
   "cell_type": "code",
   "execution_count": 3,
   "id": "600d775c",
   "metadata": {},
   "outputs": [],
   "source": [
    "df = pd.read_csv(\"data/netflix_titles.csv\")\n",
    "movies = df[df[\"type\"]==\"Movie\"]\n",
    "movies.index = range(len(movies))"
   ]
  },
  {
   "cell_type": "markdown",
   "id": "b6679e0f",
   "metadata": {},
   "source": [
    "* **column information**"
   ]
  },
  {
   "cell_type": "code",
   "execution_count": 5,
   "id": "c6e5af87",
   "metadata": {},
   "outputs": [
    {
     "name": "stdout",
     "output_type": "stream",
     "text": [
      "<class 'pandas.core.frame.DataFrame'>\n",
      "RangeIndex: 6131 entries, 0 to 6130\n",
      "Data columns (total 12 columns):\n",
      " #   Column        Non-Null Count  Dtype \n",
      "---  ------        --------------  ----- \n",
      " 0   show_id       6131 non-null   object\n",
      " 1   type          6131 non-null   object\n",
      " 2   title         6131 non-null   object\n",
      " 3   director      5943 non-null   object\n",
      " 4   cast          5656 non-null   object\n",
      " 5   country       5691 non-null   object\n",
      " 6   date_added    6131 non-null   object\n",
      " 7   release_year  6131 non-null   int64 \n",
      " 8   rating        6129 non-null   object\n",
      " 9   duration      6128 non-null   object\n",
      " 10  listed_in     6131 non-null   object\n",
      " 11  description   6131 non-null   object\n",
      "dtypes: int64(1), object(11)\n",
      "memory usage: 574.9+ KB\n"
     ]
    }
   ],
   "source": [
    "#hide_input\n",
    "movies.info()"
   ]
  },
  {
   "cell_type": "markdown",
   "id": "71b1a640",
   "metadata": {},
   "source": [
    "* **missing values visualization**"
   ]
  },
  {
   "cell_type": "code",
   "execution_count": 6,
   "id": "64663085",
   "metadata": {},
   "outputs": [
    {
     "data": {
      "text/plain": [
       "<AxesSubplot:>"
      ]
     },
     "execution_count": 6,
     "metadata": {},
     "output_type": "execute_result"
    },
    {
     "data": {
      "image/png": "[encoded data removed]",
      "text/plain": [
       "<Figure size 1800x720 with 2 Axes>"
      ]
     },
     "metadata": {
      "needs_background": "light"
     },
     "output_type": "display_data"
    }
   ],
   "source": [
    "#hide_input\n",
    "# Visualize the missing values in the dataframe.\n",
    "\n",
    "import missingno as msno\n",
    "msno.matrix(movies,color=(0.3,0.36,0.44))"
   ]
  },
  {
   "cell_type": "markdown",
   "id": "c252ef45",
   "metadata": {},
   "source": [
    "**🍿️Comment**: The missing values are distributed in columns **\"director\"**, **\"cast\"**, **\"country\"** and **\"duration\"**. "
   ]
  },
  {
   "cell_type": "markdown",
   "id": "26569174",
   "metadata": {},
   "source": [
    "> sample rows"
   ]
  },
  {
   "cell_type": "code",
   "execution_count": 7,
   "id": "59ea91a7",
   "metadata": {},
   "outputs": [
    {
     "data": {
      "text/html": [
       "<div>\n",
       "<style scoped>\n",
       "    .dataframe tbody tr th:only-of-type {\n",
       "        vertical-align: middle;\n",
       "    }\n",
       "\n",
       "    .dataframe tbody tr th {\n",
       "        vertical-align: top;\n",
       "    }\n",
       "\n",
       "    .dataframe thead th {\n",
       "        text-align: right;\n",
       "    }\n",
       "</style>\n",
       "<table border=\"1\" class=\"dataframe\">\n",
       "  <thead>\n",
       "    <tr style=\"text-align: right;\">\n",
       "      <th></th>\n",
       "      <th>show_id</th>\n",
       "      <th>type</th>\n",
       "      <th>title</th>\n",
       "      <th>director</th>\n",
       "      <th>cast</th>\n",
       "      <th>country</th>\n",
       "      <th>date_added</th>\n",
       "      <th>release_year</th>\n",
       "      <th>rating</th>\n",
       "      <th>duration</th>\n",
       "      <th>listed_in</th>\n",
       "      <th>description</th>\n",
       "    </tr>\n",
       "  </thead>\n",
       "  <tbody>\n",
       "    <tr>\n",
       "      <th>5049</th>\n",
       "      <td>s7463</td>\n",
       "      <td>Movie</td>\n",
       "      <td>Mirzya</td>\n",
       "      <td>Rakeysh Omprakash Mehra</td>\n",
       "      <td>Harshvardhan Kapoor, Saiyami Kher, Anuj Choudh...</td>\n",
       "      <td>India</td>\n",
       "      <td>February 20, 2017</td>\n",
       "      <td>2016</td>\n",
       "      <td>TV-MA</td>\n",
       "      <td>129 min</td>\n",
       "      <td>Dramas, International Movies, Music &amp; Musicals</td>\n",
       "      <td>A modern love story is connected to an ancient...</td>\n",
       "    </tr>\n",
       "    <tr>\n",
       "      <th>2290</th>\n",
       "      <td>s3560</td>\n",
       "      <td>Movie</td>\n",
       "      <td>Dave Chappelle: Sticks &amp; Stones</td>\n",
       "      <td>Stan Lathan</td>\n",
       "      <td>Dave Chappelle</td>\n",
       "      <td>United States</td>\n",
       "      <td>August 26, 2019</td>\n",
       "      <td>2019</td>\n",
       "      <td>TV-MA</td>\n",
       "      <td>66 min</td>\n",
       "      <td>Stand-Up Comedy</td>\n",
       "      <td>Dave Chappelle takes on gun culture, the opioi...</td>\n",
       "    </tr>\n",
       "    <tr>\n",
       "      <th>2519</th>\n",
       "      <td>s3992</td>\n",
       "      <td>Movie</td>\n",
       "      <td>The Super Parental Guardians</td>\n",
       "      <td>Joyce Bernal</td>\n",
       "      <td>Vice Ganda, Coco Martin, Onyok Pineda, Awra Br...</td>\n",
       "      <td>Philippines</td>\n",
       "      <td>March 21, 2019</td>\n",
       "      <td>2016</td>\n",
       "      <td>TV-14</td>\n",
       "      <td>115 min</td>\n",
       "      <td>Action &amp; Adventure, Comedies, International Mo...</td>\n",
       "      <td>Following his best friend's death, Arci takes ...</td>\n",
       "    </tr>\n",
       "    <tr>\n",
       "      <th>1414</th>\n",
       "      <td>s2183</td>\n",
       "      <td>Movie</td>\n",
       "      <td>Tumi or not Tumi</td>\n",
       "      <td>Mfanelo Ngoma</td>\n",
       "      <td>Tumi Morake</td>\n",
       "      <td>NaN</td>\n",
       "      <td>August 1, 2020</td>\n",
       "      <td>2020</td>\n",
       "      <td>TV-MA</td>\n",
       "      <td>72 min</td>\n",
       "      <td>Stand-Up Comedy</td>\n",
       "      <td>Tumi Morake dishes out hot takes and fiery com...</td>\n",
       "    </tr>\n",
       "    <tr>\n",
       "      <th>3481</th>\n",
       "      <td>s5432</td>\n",
       "      <td>Movie</td>\n",
       "      <td>The Russian Revolution</td>\n",
       "      <td>Cal Seville</td>\n",
       "      <td>Jonathan Kydd</td>\n",
       "      <td>United Kingdom</td>\n",
       "      <td>June 15, 2017</td>\n",
       "      <td>2017</td>\n",
       "      <td>TV-PG</td>\n",
       "      <td>47 min</td>\n",
       "      <td>Documentaries</td>\n",
       "      <td>Starting in 1881, this film describes how the ...</td>\n",
       "    </tr>\n",
       "  </tbody>\n",
       "</table>\n",
       "</div>"
      ],
      "text/plain": [
       "     show_id   type                            title                 director  \\\n",
       "5049   s7463  Movie                           Mirzya  Rakeysh Omprakash Mehra   \n",
       "2290   s3560  Movie  Dave Chappelle: Sticks & Stones              Stan Lathan   \n",
       "2519   s3992  Movie     The Super Parental Guardians             Joyce Bernal   \n",
       "1414   s2183  Movie                 Tumi or not Tumi            Mfanelo Ngoma   \n",
       "3481   s5432  Movie           The Russian Revolution              Cal Seville   \n",
       "\n",
       "                                                   cast         country  \\\n",
       "5049  Harshvardhan Kapoor, Saiyami Kher, Anuj Choudh...           India   \n",
       "2290                                     Dave Chappelle   United States   \n",
       "2519  Vice Ganda, Coco Martin, Onyok Pineda, Awra Br...     Philippines   \n",
       "1414                                        Tumi Morake             NaN   \n",
       "3481                                      Jonathan Kydd  United Kingdom   \n",
       "\n",
       "             date_added  release_year rating duration  \\\n",
       "5049  February 20, 2017          2016  TV-MA  129 min   \n",
       "2290    August 26, 2019          2019  TV-MA   66 min   \n",
       "2519     March 21, 2019          2016  TV-14  115 min   \n",
       "1414     August 1, 2020          2020  TV-MA   72 min   \n",
       "3481      June 15, 2017          2017  TV-PG   47 min   \n",
       "\n",
       "                                              listed_in  \\\n",
       "5049     Dramas, International Movies, Music & Musicals   \n",
       "2290                                    Stand-Up Comedy   \n",
       "2519  Action & Adventure, Comedies, International Mo...   \n",
       "1414                                    Stand-Up Comedy   \n",
       "3481                                      Documentaries   \n",
       "\n",
       "                                            description  \n",
       "5049  A modern love story is connected to an ancient...  \n",
       "2290  Dave Chappelle takes on gun culture, the opioi...  \n",
       "2519  Following his best friend's death, Arci takes ...  \n",
       "1414  Tumi Morake dishes out hot takes and fiery com...  \n",
       "3481  Starting in 1881, this film describes how the ...  "
      ]
     },
     "execution_count": 7,
     "metadata": {},
     "output_type": "execute_result"
    }
   ],
   "source": [
    "#hide_input\n",
    "# Display several rows in the dataframe.\n",
    "\n",
    "movies.sample(5)"
   ]
  },
  {
   "cell_type": "markdown",
   "id": "81ea1b85",
   "metadata": {},
   "source": [
    "**🍿️Comment**: Through observation, I found the values in the column **\"duration\"** are strings, but are mostly digital information. Therefore I convert them into integers. Also, the values in **\"date_added\"** are strings, which are more appropriate to be displayed as the date values for subsequent plotting. "
   ]
  },
  {
   "cell_type": "code",
   "execution_count": 8,
   "id": "1283404a",
   "metadata": {},
   "outputs": [],
   "source": [
    "#hide\n",
    "for i in range(len(movies)):\n",
    "    if type(movies.loc[i,'duration']) == str:\n",
    "        movies.loc[i,'duration'] = int(movies.loc[i,'duration'].replace(' min', ''))"
   ]
  },
  {
   "cell_type": "code",
   "execution_count": 9,
   "id": "cef1e1f6",
   "metadata": {},
   "outputs": [
    {
     "data": {
      "text/html": [
       "<div>\n",
       "<style scoped>\n",
       "    .dataframe tbody tr th:only-of-type {\n",
       "        vertical-align: middle;\n",
       "    }\n",
       "\n",
       "    .dataframe tbody tr th {\n",
       "        vertical-align: top;\n",
       "    }\n",
       "\n",
       "    .dataframe thead th {\n",
       "        text-align: right;\n",
       "    }\n",
       "</style>\n",
       "<table border=\"1\" class=\"dataframe\">\n",
       "  <thead>\n",
       "    <tr style=\"text-align: right;\">\n",
       "      <th></th>\n",
       "      <th>show_id</th>\n",
       "      <th>type</th>\n",
       "      <th>title</th>\n",
       "      <th>director</th>\n",
       "      <th>cast</th>\n",
       "      <th>country</th>\n",
       "      <th>date_added</th>\n",
       "      <th>release_year</th>\n",
       "      <th>rating</th>\n",
       "      <th>duration</th>\n",
       "      <th>listed_in</th>\n",
       "      <th>description</th>\n",
       "    </tr>\n",
       "  </thead>\n",
       "  <tbody>\n",
       "    <tr>\n",
       "      <th>5830</th>\n",
       "      <td>s8446</td>\n",
       "      <td>Movie</td>\n",
       "      <td>The Other Guys</td>\n",
       "      <td>Adam McKay</td>\n",
       "      <td>Will Ferrell, Mark Wahlberg, Eva Mendes, Micha...</td>\n",
       "      <td>United States</td>\n",
       "      <td>February 1, 2020</td>\n",
       "      <td>2010</td>\n",
       "      <td>PG-13</td>\n",
       "      <td>108</td>\n",
       "      <td>Action &amp; Adventure, Comedies</td>\n",
       "      <td>New York cops Allen and Terry toil in obscurit...</td>\n",
       "    </tr>\n",
       "  </tbody>\n",
       "</table>\n",
       "</div>"
      ],
      "text/plain": [
       "     show_id   type           title    director  \\\n",
       "5830   s8446  Movie  The Other Guys  Adam McKay   \n",
       "\n",
       "                                                   cast        country  \\\n",
       "5830  Will Ferrell, Mark Wahlberg, Eva Mendes, Micha...  United States   \n",
       "\n",
       "            date_added  release_year rating duration  \\\n",
       "5830  February 1, 2020          2010  PG-13      108   \n",
       "\n",
       "                         listed_in  \\\n",
       "5830  Action & Adventure, Comedies   \n",
       "\n",
       "                                            description  \n",
       "5830  New York cops Allen and Terry toil in obscurit...  "
      ]
     },
     "execution_count": 9,
     "metadata": {},
     "output_type": "execute_result"
    }
   ],
   "source": [
    "#hide\n",
    "movies.sample()"
   ]
  },
  {
   "cell_type": "code",
   "execution_count": 10,
   "id": "424555e5",
   "metadata": {},
   "outputs": [
    {
     "data": {
      "text/plain": [
       "0      2021-09-25\n",
       "1      2021-09-24\n",
       "2      2021-09-24\n",
       "3      2021-09-24\n",
       "4      2021-09-23\n",
       "          ...    \n",
       "6126   2016-03-09\n",
       "6127   2019-11-20\n",
       "6128   2019-11-01\n",
       "6129   2020-01-11\n",
       "6130   2019-03-02\n",
       "Name: date_added, Length: 6131, dtype: datetime64[ns]"
      ]
     },
     "execution_count": 10,
     "metadata": {},
     "output_type": "execute_result"
    }
   ],
   "source": [
    "#hide\n",
    "pd.to_datetime(movies['date_added'])"
   ]
  },
  {
   "cell_type": "markdown",
   "id": "c1576f3a",
   "metadata": {},
   "source": [
    "### 2. 📈Exploratory Analysis"
   ]
  },
  {
   "cell_type": "markdown",
   "id": "5972ef7b",
   "metadata": {},
   "source": [
    "### Visualization 1"
   ]
  },
  {
   "cell_type": "code",
   "execution_count": 13,
   "id": "255b5c2d",
   "metadata": {},
   "outputs": [
    {
     "data": {
      "image/png": "[encoded data removed]",
      "text/plain": [
       "<Figure size 432x288 with 1 Axes>"
      ]
     },
     "metadata": {
      "needs_background": "light"
     },
     "output_type": "display_data"
    }
   ],
   "source": [
    "#hide_input\n",
    "movies['duration'].plot(kind = 'hist')\n",
    "plt.title(\"Movies' Duration\")\n",
    "plt.show()"
   ]
  },
  {
   "cell_type": "markdown",
   "id": "e59f0cbc",
   "metadata": {},
   "source": [
    "**🍿️Comment**: The histogram shows that most movies on Netflix are about 100 minutes. The longest movie contained in this dataframe is about to reach 300 minutes, nearly 5 hours."
   ]
  },
  {
   "cell_type": "markdown",
   "id": "d36ace95",
   "metadata": {},
   "source": [
    "### Visualization 2"
   ]
  },
  {
   "cell_type": "code",
   "execution_count": 14,
   "id": "f768de53",
   "metadata": {},
   "outputs": [
    {
     "data": {
      "image/png": "[encoded data removed]",
      "text/plain": [
       "<Figure size 432x288 with 1 Axes>"
      ]
     },
     "metadata": {
      "needs_background": "light"
     },
     "output_type": "display_data"
    }
   ],
   "source": [
    "#hide_input\n",
    "movies['release_year'].hist(xlabelsize = 10)\n",
    "plt.title(\"Released years\")\n",
    "plt.show()"
   ]
  },
  {
   "cell_type": "markdown",
   "id": "9d610c80",
   "metadata": {},
   "source": [
    "**🍿️Comment**: Most movies included in the dataframe are released in recent 10 years."
   ]
  },
  {
   "cell_type": "markdown",
   "id": "31a4507f",
   "metadata": {},
   "source": [
    "### Visualization 3"
   ]
  },
  {
   "cell_type": "code",
   "execution_count": 15,
   "id": "dbb2df6f",
   "metadata": {},
   "outputs": [
    {
     "data": {
      "image/png": "[encoded data removed]",
      "text/plain": [
       "<Figure size 432x288 with 1 Axes>"
      ]
     },
     "metadata": {
      "needs_background": "light"
     },
     "output_type": "display_data"
    }
   ],
   "source": [
    "#hide_input\n",
    "fig,ax = plt.subplots()\n",
    "ax.scatter(movies['release_year'], movies['duration'])\n",
    "ax.get_xaxis().set_visible(False)\n",
    "ax.set_ylabel('Duration')\n",
    "ax.set_title('The duration of movies by the years when they were released')\n",
    "plt.show()"
   ]
  },
  {
   "cell_type": "markdown",
   "id": "a2399a6c",
   "metadata": {},
   "source": [
    "**🍿️Comment**: In this graph we can see that the duration of all movies shot in 1940s are below 100 minutes, while many movies released after 1960 are over 100 minutes. The length of a movie is strongly related to the narrative style, the length of the story, and the scale of the background setting. We can make a reasonable guess that the movie industry grew mature in 1950s, with the better shotting equipments and more experienced directors, which accounts for the increase of movies length in 1960s, that most movies' length surpass 100 minutes and the longest one even reaches 200 minutes. The short movies didn't quit the stage, however. In recent 10 years, there are still many movies with the duration below 50 minutes. "
   ]
  },
  {
   "cell_type": "markdown",
   "id": "0fb5d974",
   "metadata": {},
   "source": [
    "### Visualization 4\n",
    "Then Let's examine the values in \"country\" column."
   ]
  },
  {
   "cell_type": "code",
   "execution_count": 16,
   "id": "f839680f",
   "metadata": {},
   "outputs": [
    {
     "data": {
      "text/html": [
       "<div>\n",
       "<style scoped>\n",
       "    .dataframe tbody tr th:only-of-type {\n",
       "        vertical-align: middle;\n",
       "    }\n",
       "\n",
       "    .dataframe tbody tr th {\n",
       "        vertical-align: top;\n",
       "    }\n",
       "\n",
       "    .dataframe thead th {\n",
       "        text-align: right;\n",
       "    }\n",
       "</style>\n",
       "<table border=\"1\" class=\"dataframe\">\n",
       "  <thead>\n",
       "    <tr style=\"text-align: right;\">\n",
       "      <th></th>\n",
       "      <th>show_id</th>\n",
       "      <th>type</th>\n",
       "      <th>title</th>\n",
       "      <th>director</th>\n",
       "      <th>cast</th>\n",
       "      <th>country_or_region</th>\n",
       "      <th>date_added</th>\n",
       "      <th>release_year</th>\n",
       "      <th>rating</th>\n",
       "      <th>duration</th>\n",
       "      <th>listed_in</th>\n",
       "      <th>description</th>\n",
       "    </tr>\n",
       "  </thead>\n",
       "  <tbody>\n",
       "    <tr>\n",
       "      <th>4555</th>\n",
       "      <td>s6829</td>\n",
       "      <td>Movie</td>\n",
       "      <td>Garuda Di Dadaku</td>\n",
       "      <td>Ifa Isfansyah</td>\n",
       "      <td>Emir Mahira, Maudy Koesnaedi, Ikranagara, Aldo...</td>\n",
       "      <td>Indonesia</td>\n",
       "      <td>October 9, 2018</td>\n",
       "      <td>2009</td>\n",
       "      <td>TV-PG</td>\n",
       "      <td>96</td>\n",
       "      <td>Children &amp; Family Movies, Dramas, Sports Movies</td>\n",
       "      <td>A determined boy will do anything to become a ...</td>\n",
       "    </tr>\n",
       "  </tbody>\n",
       "</table>\n",
       "</div>"
      ],
      "text/plain": [
       "     show_id   type             title       director  \\\n",
       "4555   s6829  Movie  Garuda Di Dadaku  Ifa Isfansyah   \n",
       "\n",
       "                                                   cast country_or_region  \\\n",
       "4555  Emir Mahira, Maudy Koesnaedi, Ikranagara, Aldo...         Indonesia   \n",
       "\n",
       "           date_added  release_year rating duration  \\\n",
       "4555  October 9, 2018          2009  TV-PG       96   \n",
       "\n",
       "                                            listed_in  \\\n",
       "4555  Children & Family Movies, Dramas, Sports Movies   \n",
       "\n",
       "                                            description  \n",
       "4555  A determined boy will do anything to become a ...  "
      ]
     },
     "execution_count": 16,
     "metadata": {},
     "output_type": "execute_result"
    }
   ],
   "source": [
    "#hide\n",
    "movies = movies.rename(columns={\"country\":\"country_or_region\"})\n",
    "movies.sample()"
   ]
  },
  {
   "cell_type": "code",
   "execution_count": 17,
   "id": "461f11ee",
   "metadata": {},
   "outputs": [
    {
     "data": {
      "text/html": [
       "<div>\n",
       "<style scoped>\n",
       "    .dataframe tbody tr th:only-of-type {\n",
       "        vertical-align: middle;\n",
       "    }\n",
       "\n",
       "    .dataframe tbody tr th {\n",
       "        vertical-align: top;\n",
       "    }\n",
       "\n",
       "    .dataframe thead th {\n",
       "        text-align: right;\n",
       "    }\n",
       "</style>\n",
       "<table border=\"1\" class=\"dataframe\">\n",
       "  <thead>\n",
       "    <tr style=\"text-align: right;\">\n",
       "      <th></th>\n",
       "      <th>index</th>\n",
       "      <th>show_id</th>\n",
       "      <th>type</th>\n",
       "      <th>title</th>\n",
       "      <th>director</th>\n",
       "      <th>cast</th>\n",
       "      <th>country_or_region</th>\n",
       "      <th>date_added</th>\n",
       "      <th>release_year</th>\n",
       "      <th>rating</th>\n",
       "      <th>duration</th>\n",
       "      <th>listed_in</th>\n",
       "      <th>description</th>\n",
       "    </tr>\n",
       "  </thead>\n",
       "  <tbody>\n",
       "    <tr>\n",
       "      <th>0</th>\n",
       "      <td>97</td>\n",
       "      <td>s160</td>\n",
       "      <td>Movie</td>\n",
       "      <td>Love in a Puff</td>\n",
       "      <td>Pang Ho-cheung</td>\n",
       "      <td>Miriam Chin Wah Yeung, Shawn Yue, Singh Hartih...</td>\n",
       "      <td>Hong Kong</td>\n",
       "      <td>September 1, 2021</td>\n",
       "      <td>2010</td>\n",
       "      <td>TV-MA</td>\n",
       "      <td>103</td>\n",
       "      <td>Comedies, Dramas, International Movies</td>\n",
       "      <td>When the Hong Kong government enacts a ban on ...</td>\n",
       "    </tr>\n",
       "    <tr>\n",
       "      <th>1</th>\n",
       "      <td>322</td>\n",
       "      <td>s487</td>\n",
       "      <td>Movie</td>\n",
       "      <td>Ratchet and Clank</td>\n",
       "      <td>Jericca Cleland, Kevin Munroe</td>\n",
       "      <td>Paul Giamatti, John Goodman, Bella Thorne, Ros...</td>\n",
       "      <td>Hong Kong, Canada, United States</td>\n",
       "      <td>July 9, 2021</td>\n",
       "      <td>2016</td>\n",
       "      <td>PG</td>\n",
       "      <td>94</td>\n",
       "      <td>Children &amp; Family Movies, Comedies, Sci-Fi &amp; F...</td>\n",
       "      <td>Affable alien Ratchet longs to be a Galactic R...</td>\n",
       "    </tr>\n",
       "    <tr>\n",
       "      <th>2</th>\n",
       "      <td>1013</td>\n",
       "      <td>s1550</td>\n",
       "      <td>Movie</td>\n",
       "      <td>The Professor and the Madman</td>\n",
       "      <td>Farhad Safinia</td>\n",
       "      <td>Mel Gibson, Sean Penn, Natalie Dormer, Eddie M...</td>\n",
       "      <td>Ireland, France, Iceland, United States, Mexic...</td>\n",
       "      <td>December 15, 2020</td>\n",
       "      <td>2019</td>\n",
       "      <td>TV-14</td>\n",
       "      <td>125</td>\n",
       "      <td>Dramas, Independent Movies</td>\n",
       "      <td>While working on the first Oxford English Dict...</td>\n",
       "    </tr>\n",
       "    <tr>\n",
       "      <th>3</th>\n",
       "      <td>1055</td>\n",
       "      <td>s1621</td>\n",
       "      <td>Movie</td>\n",
       "      <td>Peppermint</td>\n",
       "      <td>Pierre Morel</td>\n",
       "      <td>Jennifer Garner, John Ortiz, John Gallagher Jr...</td>\n",
       "      <td>Hong Kong, United States</td>\n",
       "      <td>December 1, 2020</td>\n",
       "      <td>2018</td>\n",
       "      <td>R</td>\n",
       "      <td>102</td>\n",
       "      <td>Action &amp; Adventure</td>\n",
       "      <td>After her family is murdered, a mild-mannered ...</td>\n",
       "    </tr>\n",
       "    <tr>\n",
       "      <th>4</th>\n",
       "      <td>1346</td>\n",
       "      <td>s2060</td>\n",
       "      <td>Movie</td>\n",
       "      <td>Adrift</td>\n",
       "      <td>Baltasar Kormákur</td>\n",
       "      <td>Shailene Woodley, Sam Claflin, Jeffrey Thomas,...</td>\n",
       "      <td>Hong Kong, Iceland, United States</td>\n",
       "      <td>September 1, 2020</td>\n",
       "      <td>2018</td>\n",
       "      <td>PG-13</td>\n",
       "      <td>96</td>\n",
       "      <td>Action &amp; Adventure, Dramas, Romantic Movies</td>\n",
       "      <td>A young couple’s sailing adventure becomes a f...</td>\n",
       "    </tr>\n",
       "    <tr>\n",
       "      <th>...</th>\n",
       "      <td>...</td>\n",
       "      <td>...</td>\n",
       "      <td>...</td>\n",
       "      <td>...</td>\n",
       "      <td>...</td>\n",
       "      <td>...</td>\n",
       "      <td>...</td>\n",
       "      <td>...</td>\n",
       "      <td>...</td>\n",
       "      <td>...</td>\n",
       "      <td>...</td>\n",
       "      <td>...</td>\n",
       "      <td>...</td>\n",
       "    </tr>\n",
       "    <tr>\n",
       "      <th>58</th>\n",
       "      <td>5722</td>\n",
       "      <td>s8307</td>\n",
       "      <td>Movie</td>\n",
       "      <td>The Flying Guillotine</td>\n",
       "      <td>Meng Hua Ho</td>\n",
       "      <td>Kuan Tai Chen, Feng Ku, Hung Wei, Wu Chi Liu, ...</td>\n",
       "      <td>Hong Kong</td>\n",
       "      <td>July 28, 2018</td>\n",
       "      <td>1975</td>\n",
       "      <td>TV-MA</td>\n",
       "      <td>101</td>\n",
       "      <td>Action &amp; Adventure, Dramas, International Movies</td>\n",
       "      <td>In Qing-dynasty China, the emperor commands th...</td>\n",
       "    </tr>\n",
       "    <tr>\n",
       "      <th>59</th>\n",
       "      <td>5805</td>\n",
       "      <td>s8410</td>\n",
       "      <td>Movie</td>\n",
       "      <td>The Mad Monk</td>\n",
       "      <td>Johnny To</td>\n",
       "      <td>Stephen Chow, Maggie Cheung, Anthony Wong Chau...</td>\n",
       "      <td>Hong Kong</td>\n",
       "      <td>August 16, 2018</td>\n",
       "      <td>1993</td>\n",
       "      <td>TV-14</td>\n",
       "      <td>85</td>\n",
       "      <td>Comedies, International Movies, Sci-Fi &amp; Fantasy</td>\n",
       "      <td>To avoid punishment for his misdeeds, an arrog...</td>\n",
       "    </tr>\n",
       "    <tr>\n",
       "      <th>60</th>\n",
       "      <td>5934</td>\n",
       "      <td>s8570</td>\n",
       "      <td>Movie</td>\n",
       "      <td>The Young Vagabond</td>\n",
       "      <td>Sze Yu Lau</td>\n",
       "      <td>Chia-Hui Liu, Wong Yu, Jason Pai Piao, Lung We...</td>\n",
       "      <td>Hong Kong</td>\n",
       "      <td>August 16, 2018</td>\n",
       "      <td>1985</td>\n",
       "      <td>TV-14</td>\n",
       "      <td>85</td>\n",
       "      <td>Action &amp; Adventure, Comedies, International Mo...</td>\n",
       "      <td>To avenge his master, a wine-loving young man ...</td>\n",
       "    </tr>\n",
       "    <tr>\n",
       "      <th>61</th>\n",
       "      <td>6055</td>\n",
       "      <td>s8712</td>\n",
       "      <td>Movie</td>\n",
       "      <td>Weeds on Fire</td>\n",
       "      <td>Chi Fat Chan</td>\n",
       "      <td>Liu Kai Chi, Lam Yiu-sing, Tony Tsz-Tung Wu, P...</td>\n",
       "      <td>Hong Kong</td>\n",
       "      <td>September 27, 2018</td>\n",
       "      <td>2016</td>\n",
       "      <td>TV-MA</td>\n",
       "      <td>95</td>\n",
       "      <td>Dramas, Independent Movies, International Movies</td>\n",
       "      <td>In 1980s Hong Kong, a school principal forms a...</td>\n",
       "    </tr>\n",
       "    <tr>\n",
       "      <th>62</th>\n",
       "      <td>6121</td>\n",
       "      <td>s8793</td>\n",
       "      <td>Movie</td>\n",
       "      <td>Young Tiger</td>\n",
       "      <td>Mu Chu</td>\n",
       "      <td>Qiu Yuen, Charlie Chin, Jackie Chan, Hu Chin, ...</td>\n",
       "      <td>Hong Kong</td>\n",
       "      <td>November 1, 2016</td>\n",
       "      <td>1973</td>\n",
       "      <td>NR</td>\n",
       "      <td>81</td>\n",
       "      <td>Action &amp; Adventure, International Movies</td>\n",
       "      <td>Aided only by a tough female police officer, a...</td>\n",
       "    </tr>\n",
       "  </tbody>\n",
       "</table>\n",
       "<p>63 rows × 13 columns</p>\n",
       "</div>"
      ],
      "text/plain": [
       "    index show_id   type                         title  \\\n",
       "0      97    s160  Movie                Love in a Puff   \n",
       "1     322    s487  Movie             Ratchet and Clank   \n",
       "2    1013   s1550  Movie  The Professor and the Madman   \n",
       "3    1055   s1621  Movie                    Peppermint   \n",
       "4    1346   s2060  Movie                        Adrift   \n",
       "..    ...     ...    ...                           ...   \n",
       "58   5722   s8307  Movie         The Flying Guillotine   \n",
       "59   5805   s8410  Movie                  The Mad Monk   \n",
       "60   5934   s8570  Movie            The Young Vagabond   \n",
       "61   6055   s8712  Movie                 Weeds on Fire   \n",
       "62   6121   s8793  Movie                   Young Tiger   \n",
       "\n",
       "                         director  \\\n",
       "0                  Pang Ho-cheung   \n",
       "1   Jericca Cleland, Kevin Munroe   \n",
       "2                  Farhad Safinia   \n",
       "3                    Pierre Morel   \n",
       "4               Baltasar Kormákur   \n",
       "..                            ...   \n",
       "58                    Meng Hua Ho   \n",
       "59                      Johnny To   \n",
       "60                     Sze Yu Lau   \n",
       "61                   Chi Fat Chan   \n",
       "62                         Mu Chu   \n",
       "\n",
       "                                                 cast  \\\n",
       "0   Miriam Chin Wah Yeung, Shawn Yue, Singh Hartih...   \n",
       "1   Paul Giamatti, John Goodman, Bella Thorne, Ros...   \n",
       "2   Mel Gibson, Sean Penn, Natalie Dormer, Eddie M...   \n",
       "3   Jennifer Garner, John Ortiz, John Gallagher Jr...   \n",
       "4   Shailene Woodley, Sam Claflin, Jeffrey Thomas,...   \n",
       "..                                                ...   \n",
       "58  Kuan Tai Chen, Feng Ku, Hung Wei, Wu Chi Liu, ...   \n",
       "59  Stephen Chow, Maggie Cheung, Anthony Wong Chau...   \n",
       "60  Chia-Hui Liu, Wong Yu, Jason Pai Piao, Lung We...   \n",
       "61  Liu Kai Chi, Lam Yiu-sing, Tony Tsz-Tung Wu, P...   \n",
       "62  Qiu Yuen, Charlie Chin, Jackie Chan, Hu Chin, ...   \n",
       "\n",
       "                                    country_or_region          date_added  \\\n",
       "0                                           Hong Kong   September 1, 2021   \n",
       "1                    Hong Kong, Canada, United States        July 9, 2021   \n",
       "2   Ireland, France, Iceland, United States, Mexic...   December 15, 2020   \n",
       "3                            Hong Kong, United States    December 1, 2020   \n",
       "4                   Hong Kong, Iceland, United States   September 1, 2020   \n",
       "..                                                ...                 ...   \n",
       "58                                          Hong Kong       July 28, 2018   \n",
       "59                                          Hong Kong     August 16, 2018   \n",
       "60                                          Hong Kong     August 16, 2018   \n",
       "61                                          Hong Kong  September 27, 2018   \n",
       "62                                          Hong Kong    November 1, 2016   \n",
       "\n",
       "    release_year rating duration  \\\n",
       "0           2010  TV-MA      103   \n",
       "1           2016     PG       94   \n",
       "2           2019  TV-14      125   \n",
       "3           2018      R      102   \n",
       "4           2018  PG-13       96   \n",
       "..           ...    ...      ...   \n",
       "58          1975  TV-MA      101   \n",
       "59          1993  TV-14       85   \n",
       "60          1985  TV-14       85   \n",
       "61          2016  TV-MA       95   \n",
       "62          1973     NR       81   \n",
       "\n",
       "                                            listed_in  \\\n",
       "0              Comedies, Dramas, International Movies   \n",
       "1   Children & Family Movies, Comedies, Sci-Fi & F...   \n",
       "2                          Dramas, Independent Movies   \n",
       "3                                  Action & Adventure   \n",
       "4         Action & Adventure, Dramas, Romantic Movies   \n",
       "..                                                ...   \n",
       "58   Action & Adventure, Dramas, International Movies   \n",
       "59   Comedies, International Movies, Sci-Fi & Fantasy   \n",
       "60  Action & Adventure, Comedies, International Mo...   \n",
       "61   Dramas, Independent Movies, International Movies   \n",
       "62           Action & Adventure, International Movies   \n",
       "\n",
       "                                          description  \n",
       "0   When the Hong Kong government enacts a ban on ...  \n",
       "1   Affable alien Ratchet longs to be a Galactic R...  \n",
       "2   While working on the first Oxford English Dict...  \n",
       "3   After her family is murdered, a mild-mannered ...  \n",
       "4   A young couple’s sailing adventure becomes a f...  \n",
       "..                                                ...  \n",
       "58  In Qing-dynasty China, the emperor commands th...  \n",
       "59  To avoid punishment for his misdeeds, an arrog...  \n",
       "60  To avenge his master, a wine-loving young man ...  \n",
       "61  In 1980s Hong Kong, a school principal forms a...  \n",
       "62  Aided only by a tough female police officer, a...  \n",
       "\n",
       "[63 rows x 13 columns]"
      ]
     },
     "execution_count": 17,
     "metadata": {},
     "output_type": "execute_result"
    }
   ],
   "source": [
    "#hide\n",
    "# Create two list of movies to inlude the movies produced in mainland China and Hong Kong.\n",
    "\n",
    "China_list = []\n",
    "for i in range(6131):\n",
    "    if \"China\" in movies['country_or_region'].astype(str).iloc[i]:\n",
    "        China_list.append(i)\n",
    "China = movies.iloc[China_list]\n",
    "China.reset_index()\n",
    "\n",
    "Hong_Kong_list = []\n",
    "for i in range(6131):\n",
    "    if \"Hong Kong\" in movies['country_or_region'].astype(str).iloc[i] and \"China\" not in movies['country_or_region'].astype(str).iloc[i]:\n",
    "        Hong_Kong_list.append(i)\n",
    "Hong_Kong = movies.iloc[Hong_Kong_list]\n",
    "Hong_Kong.reset_index()"
   ]
  },
  {
   "cell_type": "code",
   "execution_count": 18,
   "id": "421f916a",
   "metadata": {},
   "outputs": [
    {
     "data": {
      "image/png": "[encoded data removed]",
      "text/plain": [
       "<Figure size 432x288 with 2 Axes>"
      ]
     },
     "metadata": {},
     "output_type": "display_data"
    }
   ],
   "source": [
    "#hide_input\n",
    "# Plot piecharts.\n",
    "\n",
    "label1 = 'China', 'other countries'\n",
    "label2 = 'Hong Kong', 'mainland China'\n",
    "size1 = [114, 6017]\n",
    "size2 = [63, 51]\n",
    "explode = (0.1,0)  \n",
    "\n",
    "fig, axs = plt.subplots(1, 2)\n",
    "axs[0].pie(size1, explode=explode, labels=label1, autopct='%1.1f%%',\n",
    "        shadow=True, startangle=90)\n",
    "axs[1].pie(size2, explode=explode, labels=label2, autopct='%1.1f%%',\n",
    "        shadow=True, startangle=90)\n",
    "axs[0].axis('equal')\n",
    "axs[1].axis('equal')\n",
    "plt.show()"
   ]
  },
  {
   "cell_type": "markdown",
   "id": "6784c2ab",
   "metadata": {},
   "source": [
    "**🍿️Comment**: The left piechart shows that few movies produced in mainland China are available on Netflix. The right piechart shows the ratio of movies produced in Hong Kong to movies produced in mainland China. "
   ]
  },
  {
   "cell_type": "markdown",
   "id": "216f9df0",
   "metadata": {},
   "source": [
    "### Visualization 5\n",
    "Then let's look at the data in \"director\" column."
   ]
  },
  {
   "cell_type": "code",
   "execution_count": 20,
   "id": "8ce4a45a",
   "metadata": {},
   "outputs": [],
   "source": [
    "#hide\n",
    "# Create a dictionary to store the number of films each director shot. \n",
    "\n",
    "directors = {}\n",
    "for i in range(len(movies)):\n",
    "    if movies.loc[i,'director'] not in directors:\n",
    "        directors[movies.loc[i,'director']] = 1\n",
    "    else:\n",
    "        directors[movies.loc[i,'director']] += 1"
   ]
  },
  {
   "cell_type": "code",
   "execution_count": 21,
   "id": "32153130",
   "metadata": {},
   "outputs": [
    {
     "data": {
      "image/png": "[encoded data removed]",
      "text/plain": [
       "<Figure size 432x288 with 1 Axes>"
      ]
     },
     "metadata": {
      "needs_background": "light"
     },
     "output_type": "display_data"
    }
   ],
   "source": [
    "#hide_input\n",
    "# Choose the top 15 directors according to the number of directors they produced in the dataframe. \n",
    "\n",
    "top_15_directors = sorted(directors.items(),key=lambda s:s[1],reverse=True)[1:16]\n",
    "fig,ax = plt.subplots()\n",
    "top_15 = [i[0] for i in top_15_directors]\n",
    "movie_num = [j[1] for j in top_15_directors]\n",
    "ax.barh(top_15,movie_num)\n",
    "ax.invert_yaxis()\n",
    "plt.show()"
   ]
  },
  {
   "cell_type": "markdown",
   "id": "5f41b497",
   "metadata": {},
   "source": [
    "**🍿️Comments**: The names in the ranking is out of my prediction. As a fan of Christopher Nolan, I thought he should have been ranked very high, so I searched the number of his movies included in this dataframe."
   ]
  },
  {
   "cell_type": "code",
   "execution_count": 72,
   "id": "c6c4a0ec",
   "metadata": {},
   "outputs": [
    {
     "data": {
      "text/plain": [
       "1"
      ]
     },
     "execution_count": 72,
     "metadata": {},
     "output_type": "execute_result"
    }
   ],
   "source": [
    "#hide\n",
    "directors['Christopher Nolan']"
   ]
  },
  {
   "cell_type": "markdown",
   "id": "cca9e0cb",
   "metadata": {},
   "source": [
    "### Visualization 6"
   ]
  },
  {
   "cell_type": "code",
   "execution_count": 22,
   "id": "781b1dca",
   "metadata": {},
   "outputs": [],
   "source": [
    "#hide\n",
    "# First create a list containing the names of categories.\n",
    "\n",
    "categories = []\n",
    "for i in range(len(movies)):\n",
    "    for w in movies.loc[i,'listed_in'].split(\", \"):\n",
    "        if w not in categories:\n",
    "            categories.append(w)"
   ]
  },
  {
   "cell_type": "code",
   "execution_count": 23,
   "id": "819915f7",
   "metadata": {},
   "outputs": [],
   "source": [
    "#hide\n",
    "# Create a list storing the number of movies in each category. \n",
    "\n",
    "NumberByTypes = []\n",
    "for i in range(len(categories)):\n",
    "    count = 0\n",
    "    for x in range(len(movies)):\n",
    "        if categories[i] in movies.loc[x,'listed_in'].split(\", \"):\n",
    "            count += 1\n",
    "    NumberByTypes.append(count)"
   ]
  },
  {
   "cell_type": "code",
   "execution_count": 24,
   "id": "778b33a0",
   "metadata": {},
   "outputs": [
    {
     "data": {
      "image/png": "[encoded data removed]",
      "text/plain": [
       "<Figure size 720x720 with 1 Axes>"
      ]
     },
     "metadata": {
      "needs_background": "light"
     },
     "output_type": "display_data"
    }
   ],
   "source": [
    "#hide_input\n",
    "# Visualize the information.\n",
    "\n",
    "fig, ax = plt.subplots(figsize=(10,10))\n",
    "ax.barh(categories,NumberByTypes)\n",
    "ax.invert_yaxis()\n",
    "plt.tick_params(labelsize=22)"
   ]
  },
  {
   "cell_type": "markdown",
   "id": "35b88bf5",
   "metadata": {},
   "source": [
    "**🍿️Comments**: \n",
    "1. Apart from those movies that have been clearly categorized, there's a type named \"Movies\", which suggests that movies in this type are not categorized due to some reason. We will examine the content of these movies and determine how should they be classified.\n",
    "2. There aren't clear boundary between some of the categories, which means a movie can have multiple categories. The dim boundary may confuse the viewers and thus it's necessary to give these movies representative tags. \n",
    "3. Through the names of some categories we can roughly predict the content of the movies. For instance, Faith & Spirituality movies may contain a lot of religious elements. This provides the possibility for the afterwards tag prediction task based on the descriptions of movies."
   ]
  },
  {
   "cell_type": "markdown",
   "id": "5e730148",
   "metadata": {},
   "source": [
    "### 3. 🏷 Tags Extraction"
   ]
  },
  {
   "cell_type": "markdown",
   "id": "d100b6dc",
   "metadata": {},
   "source": [
    "In this section, I used **the LDA model** to analyze the descriptions of a certain category of movie and extract the keywords to represent the category. Specifically, I first used **nltk** to preprocess the description texts. Then I made a **dictionary** and a **corpus** for the tokenized and stemmed words. Finally, I used the LDA model to extract the keywords depending on appearing frequency and drew the **word cloud** graph to visualize the result. "
   ]
  },
  {
   "cell_type": "code",
   "execution_count": 25,
   "id": "52c7746a",
   "metadata": {},
   "outputs": [],
   "source": [
    "# Create a list to store the descriptions of movies from different categories. \n",
    "\n",
    "DescByTypes = []\n",
    "for i in range(len(categories)):\n",
    "    DescByTypes.append([movies.loc[x,'description'] for x in range(len(movies)) if categories[i] in movies.loc[x,'listed_in'].split(', ')])"
   ]
  },
  {
   "cell_type": "code",
   "execution_count": 26,
   "id": "0d864457",
   "metadata": {},
   "outputs": [],
   "source": [
    "# First try to predict some tags for Documentaries.\n",
    "\n",
    "Documentaries = DescByTypes[0]"
   ]
  },
  {
   "cell_type": "code",
   "execution_count": 27,
   "id": "218583ae",
   "metadata": {},
   "outputs": [],
   "source": [
    "# Create a list for tokenized words and remove those stop words.\n",
    "\n",
    "myStopWords = list(punctuation) + stopwords.words('english')\n",
    "Docu = []\n",
    "for i in Documentaries:\n",
    "    Docu.append([w for w in word_tokenize(i.lower()) if w not in myStopWords])"
   ]
  },
  {
   "cell_type": "code",
   "execution_count": 28,
   "id": "310e2b61",
   "metadata": {},
   "outputs": [],
   "source": [
    "# Stem the words in this list.\n",
    "\n",
    "p_stemmer = PorterStemmer()\n",
    "Docu_stemmed = []\n",
    "for i in Docu:\n",
    "    Docu_stemmed.append([p_stemmer.stem(w) for w in i])"
   ]
  },
  {
   "cell_type": "code",
   "execution_count": 29,
   "id": "72d2cda7",
   "metadata": {},
   "outputs": [],
   "source": [
    "# Create a dictionary for this document.\n",
    "\n",
    "dictionary = corpora.Dictionary(Docu_stemmed)\n",
    "dictionary.filter_extremes(no_below=5, no_above=0.5)"
   ]
  },
  {
   "cell_type": "code",
   "execution_count": 30,
   "id": "6ac82082",
   "metadata": {},
   "outputs": [
    {
     "name": "stdout",
     "output_type": "stream",
     "text": [
      "{'comic': 0, 'death': 1, 'end': 2, 'face': 3, 'father': 4, 'filmmak': 5, 'help': 6, 'life': 7, 'stage': 8, 'way': 9, 'becam': 10, 'close': 11, 'document': 12, 'escap': 13, 'hitler': 14, 'presid': 15, 'reveal': 16, 'spain': 17, 'world': 18, \"'s\": 19, 'big': 20, 'childhood': 21, 'dream': 22, 'live': 23, 'love': 24, 'rescu': 25, 'train': 26, 'archiv': 27, 'champion': 28, 'documentari': 29, 'footag': 30, 'interview': 31, 'intim': 32, 'michael': 33, 'portrait': 34, 'trace': 35, 'bond': 36, 'extraordinari': 37, 'ideal': 38, 'meet': 39, 'tragic': 40, 'captur': 41, 'killer': 42, 'mother': 43, 'polic': 44, 'two': 45, 'victim': 46, 'women': 47, 'work': 48, 'chart': 49, 'legendari': 50, 'man': 51, 'stori': 52, 'use': 53, 'american': 54, 'challeng': 55, 'chang': 56, 'continu': 57, 'health': 58, 'tradit': 59, 'win': 60, 'gener': 61, 'last': 62, 'peopl': 63, 'togeth': 64, 'cultur': 65, 'examin': 66, 'famili': 67, 'hip-hop': 68, 'perform': 69, 'race': 70, 'rap': 71, 'song': 72, 'violenc': 73, \"''\": 74, '``': 75, 'advoc': 76, 'inspir': 77, 'intern': 78, 'relationship': 79, 'share': 80, 'star': 81, 'tour': 82, 'view': 83, 'boy': 84, 'run': 85, 'team': 86, '—': 87, 'art': 88, 'battl': 89, 'bob': 90, 'busi': 91, 'cast': 92, 'empir': 93, 'famou': 94, 'joy': 95, 'million': 96, '’': 97, 'becom': 98, 'first': 99, 'four': 100, 'river': 101, 'set': 102, 'come': 103, 'connect': 104, 'featur': 105, 'greatest': 106, 'human': 107, 'journey': 108, 'power': 109, 'rock': 110, 'embrac': 111, 'even': 112, 'olymp': 113, 'path': 114, 'road': 115, 'true': 116, 'crime': 117, 'narrat': 118, 'record': 119, 'seri': 120, 'abus': 121, 'martin': 122, 'person': 123, 'public': 124, 'girl': 125, 'discuss': 126, 'fan': 127, 'fight': 128, 'figur': 129, 'game': 130, 'legaci': 131, 'nba': 132, 'player': 133, 'brazilian': 134, 'citi': 135, 'crew': 136, 'decad': 137, 'film': 138, 'find': 139, 'took': 140, 'creat': 141, 'pioneer': 142, 'privat': 143, 'queen': 144, 'struggl': 145, 'commun': 146, 'devast': 147, 'movement': 148, 'speak': 149, 'survivor': 150, 'drug': 151, 'onlin': 152, 'career': 153, 'decades-long': 154, 'glimps': 155, 'delv': 156, 'call': 157, 'femal': 158, 'offic': 159, 'pay': 160, 'sexual': 161, 'album': 162, 'bring': 163, 'hit': 164, 'rapper': 165, 'camp': 166, 'championship': 167, 'compet': 168, 'emerg': 169, 'teen': 170, 'actress': 171, 'deep': 172, 'eye': 173, 'hollywood': 174, 'look': 175, 'take': 176, 'dive': 177, 'journalist': 178, 'mexican': 179, 'murder': 180, 'polit': 181, 'day': 182, 'follow': 183, 'footbal': 184, 'risk': 185, 'time': 186, 'around': 187, 'comedian': 188, 'men': 189, 'passion': 190, 'street': 191, 'final': 192, 'friend': 193, 'high': 194, 'school': 195, 'suicid': 196, 'creativ': 197, 'design': 198, 'director': 199, 'goe': 200, 'origin': 201, 'search': 202, 'age': 203, 'competit': 204, 'pursu': 205, 'sister': 206, 'three': 207, 'track': 208, 'truth': 209, 'adventur': 210, 'best': 211, 'build': 212, 'uniqu': 213, 'comedi': 214, 'experi': 215, 'free': 216, 'side': 217, 'war': 218, 'special': 219, 'chronicl': 220, 'larg': 221, 'member': 222, 'base': 223, 'divers': 224, 'emot': 225, 'five': 226, 'fuel': 227, 'young': 228, \"'ve\": 229, 'lead': 230, 'make': 231, 'new': 232, 'open': 233, 'scientist': 234, 'anim': 235, 'begin': 236, 'creator': 237, 'celebr': 238, 'home': 239, 'moment': 240, 'present': 241, 'showcas': 242, 'video': 243, 'crisi': 244, 'david': 245, 'earth': 246, 'known': 247, 'one': 248, 'prepar': 249, 'singer': 250, 'black': 251, 'explor': 252, 'quest': 253, 'understand': 254, 'univers': 255, 'america': 256, 'prison': 257, 'system': 258, 'year': 259, 'bomb': 260, 'gay': 261, 'london': 262, 'effect': 263, 'evolut': 264, 'genr': 265, 'activist': 266, 'amid': 267, 'controversi': 268, 'earli': 269, 'justic': 270, 'right': 271, 'endur': 272, 'recount': 273, 'club': 274, 'past': 275, 'success': 276, 'writer': 277, 'artist': 278, 'concert': 279, 'music': 280, 'tell': 281, 'discov': 282, 'woman': 283, 'camera': 284, 'student': 285, 'turn': 286, 'fall': 287, 'industri': 288, 'john': 289, 'rise': 290, '1980': 291, 'band': 292, 'sound': 293, 'former': 294, 'india': 295, 'return': 296, 'profession': 297, 'indian': 298, 'product': 299, 'scene': 300, 'seen': 301, 'behind-the-scen': 302, 'provid': 303, 'root': 304, 'york': 305, 'talk': 306, 'trauma': 307, 'kill': 308, 'line': 309, 'media': 310, 'social': 311, 'icon': 312, 'memori': 313, 'investig': 314, 'research': 315, 'answer': 316, 'behind': 317, 'disappear': 318, 'mysteri': 319, 'expos': 320, 'role': 321, 'white': 322, 'complex': 323, 'offer': 324, 'beauti': 325, 'ident': 326, 'includ': 327, 'mean': 328, 'practic': 329, 'spiritu': 330, 'ii': 331, 'corrupt': 332, 'global': 333, 'ocean': 334, 'belov': 335, 'walk': 336, 'get': 337, 'rich': 338, 'top': 339, 'us': 340, 'real': 341, 'fashion': 342, 'in-depth': 343, 'king': 344, 'notori': 345, 'rare': 346, 'air': 347, 'hous': 348, 'innov': 349, 'brazil': 350, 'hero': 351, 'nation': 352, 'talent': 353, 'turbul': 354, 'mix': 355, 'back': 356, 'countri': 357, 'land': 358, 'natur': 359, 'ground': 360, 'physic': 361, 'question': 362, 'seek': 363, 'group': 364, 'start': 365, 'danc': 366, 'effort': 367, 'program': 368, 'globe': 369, 'visual': 370, 'idol': 371, 'italian': 372, 'short': 373, 'strength': 374, 'histori': 375, 'charact': 376, 'backstag': 377, 'basketbal': 378, 'determin': 379, 'french': 380, 'led': 381, 'whose': 382, 'go': 383, 'scienc': 384, 'process': 385, 'spark': 386, 'play': 387, 'actor': 388, 'ambiti': 389, 'six': 390, 'chef': 391, 'embark': 392, 'reflect': 393, 'restaur': 394, 'spotlight': 395, 'cours': 396, 'futur': 397, 'brown': 398, 'leader': 399, 'children': 400, 'forg': 401, 'societi': 402, 'throughout': 403, 'hope': 404, 'south': 405, 'tri': 406, 'need': 407, 'shape': 408, 'award-win': 409, 'de': 410, 'la': 411, 'attempt': 412, 'unearth': 413, '1970': 414, 'strive': 415, 'mission': 416, 'save': 417, 'across': 418, 'water': 419, 'forc': 420, 'leav': 421, 'trip': 422, 'child': 423, 'detail': 424, 'daughter': 425, 'fail': 426, 'mexico': 427, 'join': 428, 'major': 429, 'superstar': 430, 'move': 431, 'insid': 432, 'influenti': 433, 'immigr': 434, 'event': 435, 'center': 436, 'differ': 437, 'africa': 438, 'african': 439, 'introduc': 440, 'combat': 441, 'expert': 442, 'may': 443, '1992': 444, 'danger': 445, 'impact': 446, 'learn': 447, 'light': 448, 'shed': 449, 'pop': 450, 'account': 451, 'domin': 452, 'athlet': 453, 'elit': 454, 'space': 455, 'cup': 456, 'highlight': 457, 'fame': 458, 'reconstruct': 459, 'secret': 460, 'small': 461, 'town': 462, 'profil': 463, 'sever': 464, 'navig': 465, 'pass': 466, 'island': 467, 'book': 468, 'frank': 469, 'produc': 470, 'suffer': 471, 'travel': 472, 'doctor': 473, 'surviv': 474, 'sport': 475, 'candid': 476, 'biggest': 477, 'compani': 478, 'tale': 479, 'other': 480, 'adult': 481, 'extrem': 482, 'musician': 483, 'jewish': 484, 'protest': 485, 'beyond': 486, 'photograph': 487, 'wave': 488, 'statu': 489, 'legend': 490, 'defin': 491, 'eleph': 492, 'govern': 493, 'driver': 494, 'racial': 495, 'break': 496, 'robert': 497, 'brother': 498, 'influenc': 499, 'ancient': 500, 'realiti': 501, 'entrepreneur': 502, 'farmer': 503, 'founder': 504, '–': 505, 'civilian': 506, 'veteran': 507, 'show': 508, 'recal': 509, 'act': 510, 'shock': 511, 'environment': 512, 'achiev': 513, 'modern': 514, 'anniversari': 515, 'nazi': 516, 'benefit': 517, 'heal': 518, 'left': 519, 'chines': 520, 'clash': 521, 'surround': 522, 'basebal': 523, 'scandal': 524, 'name': 525, 'u.s.': 526, 'unpreced': 527, 'long': 528, 'soccer': 529, 'cancer': 530, 'civil': 531, 'brutal': 532, 'ill': 533, 'roll': 534, 'tv': 535, '2012': 536, 'potenti': 537, 'sens': 538, 'shot': 539, 'histor': 540, 'grow': 541, 'worldwid': 542, 'execut': 543, 'festiv': 544, 'insight': 545, 'well': 546, 'wit': 547, 'studio': 548, 'test': 549, 'made': 550, 'master': 551, 'british': 552, 'case': 553, 'access': 554, 'jone': 555, 'campaign': 556, 'epic': 557, 'patient': 558, 'evid': 559, 'like': 560, 'mountain': 561, 'remark': 562, 'popular': 563, 'convict': 564, 'ride': 565, 'soldier': 566, 'wife': 567, 'food': 568, 'part': 569, 'teenag': 570, 'oper': 571, 'dramat': 572, 'daredevil': 573, 'form': 574, 'result': 575, 'blend': 576, 'classic': 577, 'exist': 578, 'dare': 579, 'evolv': 580, 'organ': 581}\n"
     ]
    }
   ],
   "source": [
    "#collapse-output\n",
    "print(dictionary.token2id)"
   ]
  },
  {
   "cell_type": "code",
   "execution_count": 31,
   "id": "d842c3db",
   "metadata": {},
   "outputs": [],
   "source": [
    "# Make a corpus.\n",
    "\n",
    "corpus = [dictionary.doc2bow(text) for text in Docu_stemmed]"
   ]
  },
  {
   "cell_type": "code",
   "execution_count": 32,
   "id": "6ca462c5",
   "metadata": {},
   "outputs": [],
   "source": [
    "# Train the lda model based on the dictionary and the corpus.\n",
    "\n",
    "ldamodel = gensim.models.ldamodel.LdaModel(corpus, \n",
    "                                           num_topics=1, \n",
    "                                           id2word = dictionary, \n",
    "                                           passes=5,\n",
    "                                           random_state=1)"
   ]
  },
  {
   "cell_type": "markdown",
   "id": "a21737c1",
   "metadata": {},
   "source": [
    "* **output generated**"
   ]
  },
  {
   "cell_type": "code",
   "execution_count": 33,
   "id": "0a1a8b39",
   "metadata": {},
   "outputs": [
    {
     "data": {
      "text/plain": [
       "[(0,\n",
       "  '0.039*\"documentari\" + 0.030*\"\\'s\" + 0.012*\"life\" + 0.010*\"world\" + 0.010*\"explor\" + 0.010*\"follow\" + 0.009*\"``\" + 0.009*\"\\'\\'\" + 0.009*\"film\" + 0.007*\"stori\"')]"
      ]
     },
     "execution_count": 33,
     "metadata": {},
     "output_type": "execute_result"
    }
   ],
   "source": [
    "ldamodel.show_topics(num_topics=1)"
   ]
  },
  {
   "cell_type": "markdown",
   "id": "da64a84b",
   "metadata": {},
   "source": [
    "**🍿Comment**: \n",
    "1. Some of the words such as \"documentary\", \"explore\", and \"world\" accurately reflect the content of this category, which proves the feasibility of this task.\n",
    "2. There are many punctuations and uninformative words involved in this list, so the next step is to add these strings into myStopWords to remove them from the dictionary. "
   ]
  },
  {
   "cell_type": "markdown",
   "id": "fb5fc521",
   "metadata": {},
   "source": [
    "* **modify the stop words list**"
   ]
  },
  {
   "cell_type": "code",
   "execution_count": 34,
   "id": "6bd49c10",
   "metadata": {},
   "outputs": [],
   "source": [
    "myStopWords.extend([\"'s\",\"'\",\"·\",\"``\",'\"','—'])"
   ]
  },
  {
   "cell_type": "markdown",
   "id": "b769d67e",
   "metadata": {},
   "source": [
    "* **repeat the steps above**"
   ]
  },
  {
   "cell_type": "code",
   "execution_count": 36,
   "id": "fcd36e10",
   "metadata": {},
   "outputs": [
    {
     "data": {
      "application/vnd.jupyter.widget-view+json": {
       "model_id": "249325e777f4438d8e29e80419a8f0f7",
       "version_major": 2,
       "version_minor": 0
      },
      "text/plain": [
       "interactive(children=(IntSlider(value=9, description='m', max=19), Output()), _dom_classes=('widget-interact',…"
      ]
     },
     "metadata": {},
     "output_type": "display_data"
    },
    {
     "data": {
      "text/plain": [
       "<function __main__.visualize1(m)>"
      ]
     },
     "execution_count": 36,
     "metadata": {},
     "output_type": "execute_result"
    }
   ],
   "source": [
    "# Make an interactive visualization to reveal the predicted tags for each category.\n",
    "\n",
    "Desc = []\n",
    "for i in DescByTypes[19]:\n",
    "    Desc.append([w for w in word_tokenize(i.lower()) if w not in myStopWords])\n",
    "p_stemmer = PorterStemmer()\n",
    "Desc_stemmed = []\n",
    "for i in Desc:\n",
    "    Desc_stemmed.append([p_stemmer.stem(w) for w in i])\n",
    "dictionary = corpora.Dictionary(Desc_stemmed)\n",
    "dictionary.filter_extremes(no_below=5, no_above=0.5)\n",
    "corpus = [dictionary.doc2bow(text) for text in Desc_stemmed]\n",
    "ldamodel = gensim.models.ldamodel.LdaModel(corpus, \n",
    "                                           num_topics=1, \n",
    "                                           id2word = dictionary, \n",
    "                                           passes=5,\n",
    "                                           random_state=1)\n",
    "fig,ax = plt.subplots()\n",
    "\n",
    "x = []\n",
    "y = []\n",
    "count = 0\n",
    "for i in re.split(re.escape(' + ') + '|' + re.escape('*'), ldamodel.print_topics(num_topics=1, num_words=20)[0][1]):\n",
    "    if count % 2 == 0:\n",
    "        y.insert(0,float(i))\n",
    "    else:\n",
    "        x.insert(0,i)\n",
    "    count += 1\n",
    "ax.barh(x,y,height=0.5)\n",
    "ax.set_title(categories[m])\n",
    "plt.tight_layout()\n"
   ]
  },
  {
   "cell_type": "markdown",
   "id": "21dd94be",
   "metadata": {},
   "source": [
    "**🍿Comments**: \n",
    "1. The tag words in most categories can accurately reflect the content of the movies invovled in that category, such as \"gay\", \"love\" and \"teen\" for LGBTQ movies, \"murder\", \"mystery\", \"secret\" and \"killer\" for Thrillers and \"team\", \"player\", \"soccer\" and \"champion\" for sports movies. \n",
    "2. By adding those punctuations into myStopWords, there are mostly meaningful words in the graphs.\n",
    "3. The \"Movies\" category that I mentioned before might be some movies themed on holidays, as there are keywords \"friend\", \"christma\" and \"holiday\" showing in the chart. "
   ]
  },
  {
   "cell_type": "markdown",
   "id": "250e758c",
   "metadata": {},
   "source": []
  },
  {
   "cell_type": "markdown",
   "id": "6cf0cc1a",
   "metadata": {},
   "source": [
    "* **visualiza the output with wordcloud graph**"
   ]
  },
  {
   "cell_type": "code",
   "execution_count": 38,
   "id": "3e793bc0",
   "metadata": {},
   "outputs": [
    {
     "data": {
      "application/vnd.jupyter.widget-view+json": {
       "model_id": "5aeba14f81314587a96a05b53d75255a",
       "version_major": 2,
       "version_minor": 0
      },
      "text/plain": [
       "interactive(children=(IntSlider(value=9, description='m', max=19), Output()), _dom_classes=('widget-interact',…"
      ]
     },
     "metadata": {},
     "output_type": "display_data"
    },
    {
     "data": {
      "text/plain": [
       "<function __main__.visualize(m)>"
      ]
     },
     "execution_count": 38,
     "metadata": {},
     "output_type": "execute_result"
    }
   ],
   "source": [
    "#hide_input\n",
    "# Visualize the tag words through wordcloud. \n",
    "\n",
    "\n",
    "Desc = []\n",
    "for i in DescByTypes[0]:\n",
    "    Desc.append([w for w in word_tokenize(i.lower()) if w not in myStopWords])\n",
    "p_stemmer = PorterStemmer()\n",
    "Desc_stemmed = []\n",
    "for i in Desc:\n",
    "    Desc_stemmed.append([p_stemmer.stem(w) for w in i])\n",
    "dictionary = corpora.Dictionary(Desc_stemmed)\n",
    "dictionary.filter_extremes(no_below=5, no_above=0.5)\n",
    "corpus = [dictionary.doc2bow(text) for text in Desc_stemmed]\n",
    "ldamodel = gensim.models.ldamodel.LdaModel(corpus, \n",
    "                                           num_topics=1, \n",
    "                                           id2word = dictionary, \n",
    "                                           passes=5,\n",
    "                                           random_state=1)\n",
    "\n",
    "x = []\n",
    "y = []\n",
    "count = 0\n",
    "for i in re.split(re.escape(' + ') + '|' + re.escape('*'), ldamodel.print_topics(num_topics=1, num_words=20)[0][1]):\n",
    "    if count % 2 == 0:\n",
    "        y.insert(0,float(i))\n",
    "    else:\n",
    "        x.insert(0,i)\n",
    "    count += 1\n",
    "plt.figure(figsize=(20,20))\n",
    "frequencies = {}\n",
    "for a in x:\n",
    "    frequencies[a]=y[x.index(a)]\n",
    "plt.title('The topics from different types of movies\\n', fontsize=30, weight=600, color='#333d29')\n",
    "wc = wordcloud.WordCloud(max_words=1000, min_font_size=10,\n",
    "                height=800,width=1600,background_color=\"white\").generate(' '.join(x))\n",
    "word_cloud = wc.generate_from_frequencies(frequencies)\n",
    "plt.imshow(wc)"
   ]
  },
  {
   "cell_type": "markdown",
   "id": "098be00c",
   "metadata": {},
   "source": [
    "**🍿Comments**: \n",
    "The wordcloud graph really add much funs in this project and makes the outcome more readable. To be specific, I set the scale of the words to be aligned with the frequency they appeared in the document. Though there are still several meaningless marks and some of the words are not closely related to the category, there are still several useful words that can generalize the category. "
   ]
  },
  {
   "cell_type": "markdown",
   "id": "ea156279",
   "metadata": {},
   "source": [
    "**🌟A Little Idea**:\n",
    "After I've done this, it occurs to me a interesting game, which is to use mainly the words provided in the graph to form a sentence related to that category. For instance, we form a sentence related to Documentaries with the words in the first graph——\"Documentaries are footages about people exploring the world and telling their stories\"."
   ]
  },
  {
   "cell_type": "markdown",
   "id": "969ed7e3",
   "metadata": {},
   "source": [
    "## Discussion\n",
    "***\n",
    "In this project, I successfully extracted the representative keywords from a list of movie descriptions with the LDA model, and visualize them through several word cloud graphs, displaying the feasibility of extracting the featured words from a set of short sentences. However, this project is still immature and could be improved in the following aspects. \n",
    "\n",
    "- First, based on the requirement on synopses come up with by Kar et al.[2], the synopses of the movies used for tag-extracting should be at least 10 sentences, as understanding stories from a very short text would be difficult for any learning system, so if extracting tags from a single movie is the next-step goal, then acquiring a set of more specific synopses is necessary. \n",
    "\n",
    "- Furthermore, there could be interdisciplinary methods applied, such as linguistics, to optimize the selection system. The selection of the keywords can be based on more precise linguistic evidence. For instance, instead of depending solely on the appearing frequency, the model can add more parameters which involve semantic and syntactic knowledge to decide which word could be taken as a representative tag of the whole document. \n",
    "\n",
    "- In addition, an evaluation method is needed for more fine-grained modification of the system, such as comparing the outcome with tags attached by movie viewers collected from movie comment websites. \n",
    "\n",
    "A similar function of extracting tags from movies has already existed on recommendation websites like Douban, a renowned Chinese movie recommendation website. However, there is still possibilities to improve their performance in producing tags. First, the content in the movie shouldn’t be the only source to produce the tags. Instead, the comments that are posted by viewers are usually very informative and are helpful in finding the attractive points of the movie. To produce tags that better generalize the film and draw visitors’ attention, the system can combine an extracting model with a sentiment-analyzing model, which allows it to extract tags from the comments that most probably contain the keywords for tagging. In addition, the tags for a movie shouldn’t be permanent, for the attraction of a film might change. People might focus on a different point just because of some issues of great social concerns. For example, the movie *The Dark Knight* was considered mainly an action movie which narrates a story of how a superhero beats criminals. As the movie has shown for a longer period, however, people understood further the significance underlying the superficial plots, that the humanity recorded in the film epitomizes the real society, sparking the consideration with respect to psychology and sociology. Thus the recommendation websites should regularly refresh the tags attached to a movie to follow up with society and keep vitality. \n",
    "\n",
    "The model established in this project is not only a preliminary attempt to extract tags from a short description of the movie, but also can be used to analyze the comments that are usually short to dynamically change the tags based on the views of the audiences. In the future, a movie recommendation system might operate based on the information reflected in the movie as well as the feedback of viewers, and a linguistic method to extract keywords would be involved. The generation of tags from movies could also be a vital step towards solving the problem of automated movie profile generation. Ultimately, the revolutionary change will contribute to a huge growth in the movie industry, rendering selecting a movie a rapid process and watching movies one of the major recreations. "
   ]
  },
  {
   "cell_type": "markdown",
   "id": "4732f123",
   "metadata": {},
   "source": [
    "## References\n",
    "\n",
    "[1] Khan, U. A., Ejaz, N., Martínez-del-Amor, M. A., & Sparenberg, H. (2017, August). Movies tags extraction using deep learning. In 2017 14th IEEE International Conference on Advanced Video and Signal Based Surveillance (AVSS) (pp. 1-6). IEEE.\n",
    "\n",
    "[2] Kar, S., Maharjan, S., López-Monroy, A. P., & Solorio, T. (2018). MPST: A corpus of movie plot synopses with tags. arXiv preprint arXiv:1802.07858.\n",
    "\n",
    "[3] Cao, J., Xia, T., Li, J., Zhang, Y., & Tang, S. (2009). A density-based method for adaptive LDA model selection. Neurocomputing, 72(7-9), 1775-1781."
   ]
  }
 ],
 "metadata": {
  "kernelspec": {
   "display_name": "Python 3 (ipykernel)",
   "language": "python",
   "name": "python3"
  },
  "language_info": {
   "codemirror_mode": {
    "name": "ipython",
    "version": 3
   },
   "file_extension": ".py",
   "mimetype": "text/x-python",
   "name": "python",
   "nbconvert_exporter": "python",
   "pygments_lexer": "ipython3",
   "version": "3.9.12"
  }
 },
 "nbformat": 4,
 "nbformat_minor": 5
}
